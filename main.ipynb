{
 "cells": [
  {
   "cell_type": "markdown",
   "metadata": {},
   "source": [
    "# CNN za razpoznavanje število oseb na fotografiji"
   ]
  },
  {
   "cell_type": "markdown",
   "metadata": {},
   "source": [
    "### Blok kode za nabor podatkov"
   ]
  },
  {
   "cell_type": "code",
   "execution_count": 2,
   "metadata": {},
   "outputs": [
    {
     "name": "stdout",
     "output_type": "stream",
     "text": [
      "Path does not exist\n"
     ]
    }
   ],
   "source": [
    "import kagglehub\n",
    "path = \"\"\n",
    "## Odkomentirajte eno od spodnjih dveh vrstic, glede na to ali ste dataset že prenesli ali ne.\n",
    "## Če ne koda ne bo delovala.\n",
    "path = \"enter_path_to_dataset_files\"                        # DRUGA DEKLARACIJA PATH SPREMENLJIVKE\n",
    "#path = kagglehub.dataset_download(\"tthien/shanghaitech\")   # PRVA DEKLARACIJA PATH SPREMENLJIVKE\n",
    "\n",
    "import os\n",
    "if os.path.exists(path):\n",
    "    print(\"Path to dataset files:\", path)\n",
    "elif (path == \"\"):\n",
    "    print(\"Path does not exist\")\n",
    "else:\n",
    "    print(\"Path does not exist\")"
   ]
  },
  {
   "cell_type": "code",
   "execution_count": null,
   "metadata": {},
   "outputs": [],
   "source": []
  }
 ],
 "metadata": {
  "kernelspec": {
   "display_name": "Python 3",
   "language": "python",
   "name": "python3"
  },
  "language_info": {
   "codemirror_mode": {
    "name": "ipython",
    "version": 3
   },
   "file_extension": ".py",
   "mimetype": "text/x-python",
   "name": "python",
   "nbconvert_exporter": "python",
   "pygments_lexer": "ipython3",
   "version": "3.12.0"
  }
 },
 "nbformat": 4,
 "nbformat_minor": 2
}
